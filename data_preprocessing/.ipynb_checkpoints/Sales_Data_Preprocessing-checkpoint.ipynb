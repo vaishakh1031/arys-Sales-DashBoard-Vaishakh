{
 "cells": [
  {
   "cell_type": "markdown",
   "id": "0821c59d",
   "metadata": {},
   "source": [
    "# Sales Data Preprocessing Notebook\n",
    "\n",
    "This notebook will clean and preprocess the sales data for use in the dashboard and API."
   ]
  },
  {
   "cell_type": "code",
   "execution_count": null,
   "id": "499964bd",
   "metadata": {},
   "outputs": [],
   "source": [
    "# 1. Import Required Libraries\n",
    "import pandas as pd\n",
    "import numpy as np"
   ]
  },
  {
   "cell_type": "markdown",
   "id": "c5bff4ae",
   "metadata": {},
   "source": [
    "## 2. Load the Dataset\n",
    "Load the raw sales data from CSV."
   ]
  },
  {
   "cell_type": "code",
   "execution_count": null,
   "id": "6f614f2d",
   "metadata": {},
   "outputs": [],
   "source": [
    "# Load the dataset\n",
    "df = pd.read_csv('sales_data.csv', encoding='latin1')\n",
    "display(df.head())"
   ]
  },
  {
   "cell_type": "markdown",
   "id": "d20a7e41",
   "metadata": {},
   "source": [
    "## 3. Select Required Columns\n",
    "We will keep only the columns needed for the dashboard and API."
   ]
  },
  {
   "cell_type": "code",
   "execution_count": null,
   "id": "c67ce55e",
   "metadata": {},
   "outputs": [],
   "source": [
    "# Select only the columns needed for the dashboard\n",
    "required_columns = [\n",
    "    'ORDERNUMBER', 'SALES', 'ORDERDATE', 'PRODUCTLINE',\n",
    "    'COUNTRY', 'QUANTITYORDERED', 'CUSTOMERNAME', 'STATUS'\n",
    "]\n",
    "df = df.reindex(columns=df.columns.tolist() + [col for col in required_columns if col not in df.columns], fill_value=None)\n",
    "df_selected = df[required_columns].copy()\n",
    "display(df_selected.head())"
   ]
  },
  {
   "cell_type": "markdown",
   "id": "c9b17bee",
   "metadata": {},
   "source": [
    "## 4. Handle Missing Data\n",
    "Drop rows with missing values in essential columns."
   ]
  },
  {
   "cell_type": "code",
   "execution_count": null,
   "id": "586d21c9",
   "metadata": {},
   "outputs": [],
   "source": [
    "# Drop rows with missing values in essential columns\n",
    "display(df_selected.isnull().sum())\n",
    "df_selected.dropna(inplace=True)\n",
    "display(df_selected.isnull().sum())"
   ]
  },
  {
   "cell_type": "markdown",
   "id": "3a1ef3a0",
   "metadata": {},
   "source": [
    "## 5. Remove Duplicate Records\n",
    "Remove duplicate rows to ensure data quality."
   ]
  },
  {
   "cell_type": "code",
   "execution_count": null,
   "id": "8ceea9dc",
   "metadata": {},
   "outputs": [],
   "source": [
    "# Remove duplicate rows\n",
    "print(f\"Rows before: {df_selected.shape[0]}\")\n",
    "df_selected.drop_duplicates(inplace=True)\n",
    "print(f\"Rows after: {df_selected.shape[0]}\")"
   ]
  },
  {
   "cell_type": "markdown",
   "id": "8447fef8",
   "metadata": {},
   "source": [
    "## 6. Normalize Categorical Data\n",
    "Standardize text columns to title case for consistency."
   ]
  },
  {
   "cell_type": "code",
   "execution_count": null,
   "id": "ee7a35dc",
   "metadata": {},
   "outputs": [],
   "source": [
    "# Normalize text columns to title case\n",
    "df_selected['PRODUCTLINE'] = df_selected['PRODUCTLINE'].astype(str).str.title()\n",
    "df_selected['COUNTRY'] = df_selected['COUNTRY'].astype(str).str.title()\n",
    "df_selected['STATUS'] = df_selected['STATUS'].astype(str).str.title()\n",
    "display(df_selected[['PRODUCTLINE', 'COUNTRY', 'STATUS']].head())"
   ]
  },
  {
   "cell_type": "markdown",
   "id": "e43f9528",
   "metadata": {},
   "source": [
    "## 7. Feature Engineering: Date Extraction\n",
    "Convert `ORDERDATE` to datetime and extract year, month, and quarter."
   ]
  },
  {
   "cell_type": "code",
   "execution_count": null,
   "id": "fadbba19",
   "metadata": {},
   "outputs": [],
   "source": [
    "# Convert ORDERDATE to datetime and extract features\n",
    "df_selected['ORDERDATE'] = pd.to_datetime(df_selected['ORDERDATE'])\n",
    "df_selected['YEAR'] = df_selected['ORDERDATE'].dt.year\n",
    "df_selected['MONTH'] = df_selected['ORDERDATE'].dt.month\n",
    "df_selected['QUARTER'] = df_selected['ORDERDATE'].dt.quarter\n",
    "display(df_selected.head())"
   ]
  },
  {
   "cell_type": "markdown",
   "id": "f2d39401",
   "metadata": {},
   "source": [
    "## 8. Save the Cleaned Data\n",
    "Export the processed DataFrame for use in the backend API."
   ]
  },
  {
   "cell_type": "code",
   "execution_count": null,
   "id": "9f3d6a0e",
   "metadata": {},
   "outputs": [],
   "source": [
    "# Save the cleaned data to a new CSV file for the backend to use\n",
    "output_path = '../backend/sales_data_processed.csv'\n",
    "df_selected.to_csv(output_path, index=False)\n",
    "print(f\"Processed data saved to {output_path}\")"
   ]
  }
 ],
 "metadata": {
  "language_info": {
   "name": "python"
  }
 },
 "nbformat": 4,
 "nbformat_minor": 5
}
